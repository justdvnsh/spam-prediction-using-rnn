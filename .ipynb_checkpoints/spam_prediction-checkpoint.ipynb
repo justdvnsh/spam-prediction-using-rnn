{
 "cells": [
  {
   "cell_type": "code",
   "execution_count": 33,
   "metadata": {},
   "outputs": [],
   "source": [
    "import re\n",
    "import numpy as np\n",
    "import matplotlib.pyplot as plt\n",
    "import pandas as pd\n",
    "import tensorflow as tf\n",
    "import os\n",
    "import io\n",
    "import requests\n",
    "from zipfile import ZipFile\n",
    "import re\n",
    "from tensorflow.python.framework import ops, graph_util\n",
    "ops.reset_default_graph()"
   ]
  },
  {
   "cell_type": "markdown",
   "metadata": {},
   "source": [
    "Now , we are starting a new graph session and setting up the RNN model params.\n",
    "- We are running the model through 10 epochs \n",
    "- Batch size is of 250\n",
    "- The maximum length of each text will be 25; i.e. we will pad shorter sequences or cut longer texts\n",
    "- the rnn size will be of 10 units i.e. there will be 10 neurons of RNN in each layer we make.\n",
    "- We will only consider words that appear atleast 10 times in the vocab, to improve the training.\n",
    "- Every word will be embedded into a trainable vector of size 50\n",
    "- the dropout rate will be a tf placeholder which we can set to 0.5 during training or 1.0 during evaluation"
   ]
  },
  {
   "cell_type": "code",
   "execution_count": 3,
   "metadata": {},
   "outputs": [],
   "source": [
    "# Start a graph\n",
    "sess = tf.Session()\n",
    "\n",
    "# Set RNN parameters\n",
    "epochs = 150\n",
    "batch_size = 250\n",
    "max_sequence_length = 25\n",
    "rnn_size = 10\n",
    "embedding_size = 50\n",
    "min_word_frequency = 10\n",
    "learning_rate = 0.0005\n",
    "dropout_keep_prob = tf.placeholder(tf.float32)\n"
   ]
  },
  {
   "cell_type": "markdown",
   "metadata": {},
   "source": [
    "Now we get the text and training data. We get this data from -\n",
    "- [https://www.kaggle.com/uciml/sms-spam-collection-dataset](https://www.kaggle.com/uciml/sms-spam-collection-dataset)\n",
    "- [http://archive.ics.uci.edu/ml/machine-learning-databases/00228/smsspamcollection.zip](http://archive.ics.uci.edu/ml/machine-learning-databases/00228/smsspamcollection.zip)"
   ]
  },
  {
   "cell_type": "code",
   "execution_count": 4,
   "metadata": {},
   "outputs": [],
   "source": [
    "# Download or open data\n",
    "data_dir = 'temp'\n",
    "data_file = 'text_data.txt'\n",
    "if not os.path.exists(data_dir):\n",
    "    os.makedirs(data_dir)\n",
    "\n",
    "if not os.path.isfile(os.path.join(data_dir, data_file)):\n",
    "    zip_url = 'http://archive.ics.uci.edu/ml/machine-learning-databases/00228/smsspamcollection.zip'\n",
    "    r = requests.get(zip_url)\n",
    "    z = ZipFile(io.BytesIO(r.content))\n",
    "    file = z.read('SMSSpamCollection')\n",
    "    # Format Data\n",
    "    text_data = file.decode()\n",
    "    text_data = text_data.encode('ascii', errors='ignore')\n",
    "    text_data = text_data.decode().split('\\n')\n",
    "\n",
    "    # Save data to text file\n",
    "    with open(os.path.join(data_dir, data_file), 'w') as file_conn:\n",
    "        for text in text_data:\n",
    "            file_conn.write(\"{}\\n\".format(text))\n",
    "else:\n",
    "    # Open data from text file\n",
    "    text_data = []\n",
    "    with open(os.path.join(data_dir, data_file), 'r') as file_conn:\n",
    "        for row in file_conn:\n",
    "            text_data.append(row)\n",
    "    text_data = text_data[:-1]\n",
    "\n",
    "text_data = [x.split('\\t') for x in text_data if len(x) >= 1]\n",
    "[text_data_target, text_data_train] = [list(x) for x in zip(*text_data)]"
   ]
  },
  {
   "cell_type": "code",
   "execution_count": 5,
   "metadata": {},
   "outputs": [
    {
     "data": {
      "text/plain": [
       "['Go until jurong point, crazy.. Available only in bugis n great world la e buffet... Cine there got amore wat...\\n',\n",
       " 'Ok lar... Joking wif u oni...\\n',\n",
       " \"Free entry in 2 a wkly comp to win FA Cup final tkts 21st May 2005. Text FA to 87121 to receive entry question(std txt rate)T&C's apply 08452810075over18's\\n\",\n",
       " 'U dun say so early hor... U c already then say...\\n',\n",
       " \"Nah I don't think he goes to usf, he lives around here though\\n\",\n",
       " \"FreeMsg Hey there darling it's been 3 week's now and no word back! I'd like some fun you up for it still? Tb ok! XxX std chgs to send, 1.50 to rcv\\n\",\n",
       " 'Even my brother is not like to speak with me. They treat me like aids patent.\\n',\n",
       " \"As per your request 'Melle Melle (Oru Minnaminunginte Nurungu Vettam)' has been set as your callertune for all Callers. Press *9 to copy your friends Callertune\\n\",\n",
       " 'WINNER!! As a valued network customer you have been selected to receivea 900 prize reward! To claim call 09061701461. Claim code KL341. Valid 12 hours only.\\n',\n",
       " 'Had your mobile 11 months or more? U R entitled to Update to the latest colour mobiles with camera for Free! Call The Mobile Update Co FREE on 08002986030\\n']"
      ]
     },
     "execution_count": 5,
     "metadata": {},
     "output_type": "execute_result"
    }
   ],
   "source": [
    "text_data_train[:10]"
   ]
  },
  {
   "cell_type": "code",
   "execution_count": 6,
   "metadata": {},
   "outputs": [
    {
     "data": {
      "text/plain": [
       "['ham', 'ham', 'spam', 'ham', 'ham', 'spam', 'ham', 'ham', 'spam', 'spam']"
      ]
     },
     "execution_count": 6,
     "metadata": {},
     "output_type": "execute_result"
    }
   ],
   "source": [
    "text_data_target[:10]"
   ]
  },
  {
   "cell_type": "markdown",
   "metadata": {},
   "source": [
    "Next important step is to clean the data, i.e. removing white space , special chars and converting everything to lowercase."
   ]
  },
  {
   "cell_type": "code",
   "execution_count": 7,
   "metadata": {},
   "outputs": [
    {
     "data": {
      "text/plain": [
       "'im gonna be home soon and i dont want to talk about this stuff anymore tonight k ive cried enough today'"
      ]
     },
     "execution_count": 7,
     "metadata": {},
     "output_type": "execute_result"
    }
   ],
   "source": [
    "# Create a text cleaning function\n",
    "def clean_text(text_string):\n",
    "    text_string = re.sub(r'([^\\s\\w]|_|[0-9])+', '', text_string)\n",
    "    text_string = \" \".join(text_string.split())\n",
    "    text_string = text_string.lower()\n",
    "    return text_string\n",
    "\n",
    "\n",
    "clean_text(text_data_train[10])"
   ]
  },
  {
   "cell_type": "markdown",
   "metadata": {},
   "source": [
    "Now we convert the text into appropriate list of indices."
   ]
  },
  {
   "cell_type": "code",
   "execution_count": 8,
   "metadata": {},
   "outputs": [
    {
     "data": {
      "text/plain": [
       "['go until jurong point crazy available only in bugis n great world la e buffet cine there got amore wat',\n",
       " 'ok lar joking wif u oni',\n",
       " 'free entry in a wkly comp to win fa cup final tkts st may text fa to to receive entry questionstd txt ratetcs apply overs',\n",
       " 'u dun say so early hor u c already then say',\n",
       " 'nah i dont think he goes to usf he lives around here though',\n",
       " 'freemsg hey there darling its been weeks now and no word back id like some fun you up for it still tb ok xxx std chgs to send to rcv',\n",
       " 'even my brother is not like to speak with me they treat me like aids patent',\n",
       " 'as per your request melle melle oru minnaminunginte nurungu vettam has been set as your callertune for all callers press to copy your friends callertune',\n",
       " 'winner as a valued network customer you have been selected to receivea prize reward to claim call claim code kl valid hours only',\n",
       " 'had your mobile months or more u r entitled to update to the latest colour mobiles with camera for free call the mobile update co free on']"
      ]
     },
     "execution_count": 8,
     "metadata": {},
     "output_type": "execute_result"
    }
   ],
   "source": [
    "# Clean texts\n",
    "text_data_train = [clean_text(x) for x in text_data_train]\n",
    "text_data_train[:10]"
   ]
  },
  {
   "cell_type": "code",
   "execution_count": 9,
   "metadata": {},
   "outputs": [
    {
     "name": "stdout",
     "output_type": "stream",
     "text": [
      "WARNING:tensorflow:From <ipython-input-9-5c1922a90ffa>:3: VocabularyProcessor.__init__ (from tensorflow.contrib.learn.python.learn.preprocessing.text) is deprecated and will be removed in a future version.\n",
      "Instructions for updating:\n",
      "Please use tensorflow/transform or tf.data.\n",
      "WARNING:tensorflow:From C:\\Users\\Divyansh\\Anaconda3\\lib\\site-packages\\tensorflow\\contrib\\learn\\python\\learn\\preprocessing\\text.py:154: CategoricalVocabulary.__init__ (from tensorflow.contrib.learn.python.learn.preprocessing.categorical_vocabulary) is deprecated and will be removed in a future version.\n",
      "Instructions for updating:\n",
      "Please use tensorflow/transform or tf.data.\n",
      "WARNING:tensorflow:From C:\\Users\\Divyansh\\Anaconda3\\lib\\site-packages\\tensorflow\\contrib\\learn\\python\\learn\\preprocessing\\text.py:170: tokenizer (from tensorflow.contrib.learn.python.learn.preprocessing.text) is deprecated and will be removed in a future version.\n",
      "Instructions for updating:\n",
      "Please use tensorflow/transform or tf.data.\n"
     ]
    }
   ],
   "source": [
    "# Change texts into numeric vectors\n",
    "vocab_processor = tf.contrib.learn.preprocessing.VocabularyProcessor(max_sequence_length,\n",
    "                                                                     min_frequency=min_word_frequency)\n",
    "text_processed = np.array(list(vocab_processor.fit_transform(text_data_train)))\n",
    "\n",
    "vocab_size = len(vocab_processor.vocabulary_)"
   ]
  },
  {
   "cell_type": "code",
   "execution_count": 10,
   "metadata": {},
   "outputs": [
    {
     "data": {
      "text/plain": [
       "array([[ 44, 455,   0, 809, 703, 667,  62,   9,   0,  87, 120, 366,   0,\n",
       "        152,   0,   0,  66,  56,   0, 136,   0,   0,   0,   0,   0],\n",
       "       [ 47, 315,   0, 458,   6,   0,   0,   0,   0,   0,   0,   0,   0,\n",
       "          0,   0,   0,   0,   0,   0,   0,   0,   0,   0,   0,   0],\n",
       "       [ 46, 465,   9,   4, 773, 882,   1, 178,   0,   0, 622,   0, 236,\n",
       "        258,  69,   0,   1,   1, 318, 465,   0,  77,   0, 368,   0],\n",
       "       [  6, 230, 140,  23, 357,   0,   6, 155, 142,  58, 140,   0,   0,\n",
       "          0,   0,   0,   0,   0,   0,   0,   0,   0,   0,   0,   0],\n",
       "       [  0,   2,  42,  97,  70, 466,   1, 928,  70,   0, 202, 110, 473,\n",
       "          0,   0,   0,   0,   0,   0,   0,   0,   0,   0,   0,   0],\n",
       "       [845, 121,  66,   0,  40,  98, 611,  21,   7,  37, 353,  85, 342,\n",
       "         54, 106, 387,   3,  41,  12,  14,  84,   0,  47, 340,   0],\n",
       "       [196,  11, 590,   8,  24,  54,   1, 363,  35,  10, 107, 691,  10,\n",
       "         54,   0,   0,   0,   0,   0,   0,   0,   0,   0,   0,   0],\n",
       "       [ 71, 212,  13,   0,   0,   0,   0,   0,   0,   0, 109,  98, 581,\n",
       "         71,  13,   0,  12,  49,   0, 810,   1,   0,  13, 218,   0],\n",
       "       [694,  71,   4, 819, 416, 217,   3,  17,  98, 420,   1,   0, 138,\n",
       "          0,   1, 114,  16, 114, 404,   0, 518, 530,  62,   0,   0],\n",
       "       [129,  13,  90, 682,  26, 123,   6,  83,   0,   1, 498,   1,   5,\n",
       "        307, 546, 855,  35, 326,  12,  46,  16,   5,  90, 498,   0]],\n",
       "      dtype=int64)"
      ]
     },
     "execution_count": 10,
     "metadata": {},
     "output_type": "execute_result"
    }
   ],
   "source": [
    "text_processed[:10]"
   ]
  },
  {
   "cell_type": "markdown",
   "metadata": {},
   "source": [
    "Now , we need to shuffle the data to randomize it , so that the model training could be more efficient. We also convert the ham and spam words into integers so that they can be fed into the model to train."
   ]
  },
  {
   "cell_type": "code",
   "execution_count": 11,
   "metadata": {},
   "outputs": [],
   "source": [
    "# Shuffle and split data\n",
    "text_processed = np.array(text_processed)\n",
    "text_data_target = np.array([1 if x == 'ham' else 0 for x in text_data_target])\n",
    "shuffled_ix = np.random.permutation(np.arange(len(text_data_target)))\n",
    "x_shuffled = text_processed[shuffled_ix]\n",
    "y_shuffled = text_data_target[shuffled_ix]\n"
   ]
  },
  {
   "cell_type": "code",
   "execution_count": 12,
   "metadata": {},
   "outputs": [
    {
     "name": "stdout",
     "output_type": "stream",
     "text": [
      "[[ 28   3  29 532   0   0   0   0   0   0   0   0   0   0   0   0   0   0\n",
      "    0   0   0   0   0   0   0]\n",
      " [121   0  49 319 165 332  27   0   0   0   0   0   0   0   0   0   0   0\n",
      "    0   0   0   0   0   0   0]\n",
      " [362  67   1 182  41 123   0   0   0   0   0   0   0   0   0   0   0   0\n",
      "    0   0   0   0   0   0   0]\n",
      " [501   6  41   0   0   0   0   0   0   0   0   0   0   0   0   0   0   0\n",
      "    0   0   0   0   0   0   0]\n",
      " [141 351   0  25   0 148  73   1   0  14   0   0   0   0   0   0   0   0\n",
      "    0   0   0   0   0   0   0]\n",
      " [  2 249  79  25 384  28  30   0   4  24 136   6 151  21   0   0   0   0\n",
      "    0   0   0   0   0   0   0]\n",
      " [  0 430  24   0   3  53  11   0 847   0   3   1  13   0   0  11   0   7\n",
      "    0  13 597   1  14  42 623]\n",
      " [589  69  10  43 234   0   0   0   0   0   0   0   0   0   0   0   0   0\n",
      "    0   0   0   0   0   0   0]\n",
      " [104 190  12 479  33  14   0   0   1 101 815   9   5 201 373  80   4   0\n",
      "    0   0   0   0   0   0   0]\n",
      " [  0 269  24 667   0   0   0   0   0   0   0   0   0   0   0   0   0   0\n",
      "    0   0   0   0   0   0   0]]\n",
      "[1 1 1 1 1 1 1 1 1 1]\n"
     ]
    }
   ],
   "source": [
    "print(x_shuffled[:10])\n",
    "print(y_shuffled[:10])"
   ]
  },
  {
   "cell_type": "code",
   "execution_count": 13,
   "metadata": {},
   "outputs": [
    {
     "name": "stdout",
     "output_type": "stream",
     "text": [
      "5574\n",
      "5574\n",
      "5574 5574\n"
     ]
    }
   ],
   "source": [
    "print(len(text_data_train))\n",
    "print(len(text_data_target))\n",
    "print(len(x_shuffled), len(y_shuffled))"
   ]
  },
  {
   "cell_type": "code",
   "execution_count": 14,
   "metadata": {},
   "outputs": [],
   "source": [
    "from sklearn.model_selection import train_test_split\n",
    "x_train, x_test, y_train, y_test = train_test_split(x_shuffled, y_shuffled, test_size = 0.2)"
   ]
  },
  {
   "cell_type": "code",
   "execution_count": 15,
   "metadata": {},
   "outputs": [
    {
     "name": "stdout",
     "output_type": "stream",
     "text": [
      "[[ 91  10 190 130 470   0   0   0   0   0   0   0   0   0   0   0   0   0\n",
      "    0   0   0   0   0   0   0]\n",
      " [  2  59 219 145   3 177  25   2  97  40  27   0   0   0   0   0   0   0\n",
      "    0   0   0   0   0   0   0]\n",
      " [ 22 598  11 328  21   0   0   0   0   0   0   0   0   0   0   0   0   0\n",
      "    0   0   0   0   0   0   0]\n",
      " [  0 475  41 350 167   0   3 305  39  63  35 551  15   0 195 716   0   0\n",
      "    0   0   0   0   0   0   0]\n",
      " [ 81   2 102  69 154 570   0  80   3   9   0   0   0   0   0   0   0   0\n",
      "    0   0   0   0   0   0   0]\n",
      " [  3  17 179   4 246 174  26   4   0 114 696 138  16  86 217 214   0  18\n",
      "    0   0   0   0   0   0   0]\n",
      " [  6  17   4 727   0 118   8 415 131 186  35   0  50 118 107   0 118 769\n",
      "   31  23   0  18   0   0   0]\n",
      " [ 22  24 183   2  59  36 880  50  52  59   0 202   5 777   0   0   0   0\n",
      "    0   0   0   0   0   0   0]\n",
      " [269   0  21  77 341  26   0  31 242 563 840 341   0   1   1 445   7  30\n",
      "    0   0   0   0   0   0   0]\n",
      " [  0 296  35   4 321   0 162 173  31 252 161  25  42 162  31 252 161  12\n",
      "  173 195 756   0   0   0   0]]\n",
      "[1 1 1 1 1 0 0 1 0 1]\n"
     ]
    }
   ],
   "source": [
    "print(x_train[:10])\n",
    "print(y_train[:10])"
   ]
  },
  {
   "cell_type": "markdown",
   "metadata": {},
   "source": [
    "Now we declare the placeholders for the x and y input .\n",
    "x_input would be of the size = (None, max_seq_length) , since none is the batch size and every text is formatted into length of 25 .\n",
    "y_input would just be either 1 or 0 for ham or spam."
   ]
  },
  {
   "cell_type": "code",
   "execution_count": 16,
   "metadata": {},
   "outputs": [],
   "source": [
    "# Create placeholders\n",
    "x_data = tf.placeholder(tf.int32, [None, max_sequence_length])\n",
    "y_output = tf.placeholder(tf.int32, [None])"
   ]
  },
  {
   "cell_type": "markdown",
   "metadata": {},
   "source": [
    "Now , we are creating an embedding matrix and embedding lookup table for x_data."
   ]
  },
  {
   "cell_type": "code",
   "execution_count": 17,
   "metadata": {},
   "outputs": [],
   "source": [
    "## So first we create a variable of an uniformly distributed matrix of the shape vocab_size rows and embedding_size columns\n",
    "## between the range -1.0 to 1.0\n",
    "embedding_mat = tf.Variable(tf.random_uniform([vocab_size, embedding_size], -1.0, 1.0))\n",
    "## So the embedding_matrix would be of the shape (67,50)\n",
    "## then we create a lookup table that is , we make the x_data into a vector matrix.\n",
    "embedding_output = tf.nn.embedding_lookup(embedding_mat, x_data)"
   ]
  },
  {
   "cell_type": "code",
   "execution_count": 18,
   "metadata": {},
   "outputs": [
    {
     "name": "stdout",
     "output_type": "stream",
     "text": [
      "933\n"
     ]
    }
   ],
   "source": [
    "print(vocab_size)"
   ]
  },
  {
   "cell_type": "markdown",
   "metadata": {},
   "source": [
    "Now , first we specify the rnn cell we want to use , i.e. basic rnn cell or lstm or gru,\n",
    "then we create the rnn sequence making it a dynamic rnn, and then add dropout to it."
   ]
  },
  {
   "cell_type": "code",
   "execution_count": 19,
   "metadata": {},
   "outputs": [],
   "source": [
    "cell = tf.nn.rnn_cell.BasicRNNCell(num_units = rnn_size, reuse=tf.AUTO_REUSE)\n",
    "output, state = tf.nn.dynamic_rnn(cell, embedding_output, dtype=tf.float32)\n",
    "output = tf.nn.dropout(output, dropout_keep_prob)"
   ]
  },
  {
   "cell_type": "markdown",
   "metadata": {},
   "source": [
    "dynamic RNN allows for variable length sequences. Even though we are using a fixed sequence length in this example, it is usually preferred to use dynamic_rnn in TensorFlow for two main reasons. One reason is that, in practice, the dynamic RNN actually runs computationally faster; the second is that, if we choose, we can run sequences of different lengths through the RNN."
   ]
  },
  {
   "cell_type": "markdown",
   "metadata": {},
   "source": [
    "Now in order to get the output, we need to rearange the RNN and slice of the last output."
   ]
  },
  {
   "cell_type": "code",
   "execution_count": 20,
   "metadata": {},
   "outputs": [],
   "source": [
    "# Get output of RNN sequence\n",
    "output = tf.transpose(output, [1, 0, 2])\n",
    "last = tf.gather(output, int(output.get_shape()[0]) - 1)"
   ]
  },
  {
   "cell_type": "markdown",
   "metadata": {},
   "source": [
    "tf.gather slices of the input based on the indices.\n",
    "i.e. if the input is [p1, p2, p3, p4] and we want to slice it based on the indices [0,2,1] then the output will be [p1, p3, p2]"
   ]
  },
  {
   "cell_type": "markdown",
   "metadata": {},
   "source": [
    "Now to finish the RNN we need to convert the output from rnn_size to 2 cateogary output i.e. spam or ham .\n",
    "this is done via a fully connected network"
   ]
  },
  {
   "cell_type": "code",
   "execution_count": 21,
   "metadata": {},
   "outputs": [],
   "source": [
    "weight = tf.Variable(tf.truncated_normal([rnn_size, 2], stddev=0.1))\n",
    "bias = tf.Variable(tf.constant(0.1, shape=[2]))\n",
    "logits_out = tf.matmul(last, weight) + bias"
   ]
  },
  {
   "cell_type": "markdown",
   "metadata": {},
   "source": [
    "Now we make the loss function .\n"
   ]
  },
  {
   "cell_type": "code",
   "execution_count": 22,
   "metadata": {},
   "outputs": [],
   "source": [
    "# Loss function\n",
    "losses = tf.nn.sparse_softmax_cross_entropy_with_logits(logits=logits_out, labels=y_output)\n",
    "loss = tf.reduce_mean(losses)"
   ]
  },
  {
   "cell_type": "markdown",
   "metadata": {},
   "source": [
    "Now we make the accuray and optimization functions."
   ]
  },
  {
   "cell_type": "code",
   "execution_count": 23,
   "metadata": {},
   "outputs": [
    {
     "name": "stderr",
     "output_type": "stream",
     "text": [
      "C:\\Users\\Divyansh\\Anaconda3\\lib\\site-packages\\tensorflow\\python\\ops\\gradients_impl.py:108: UserWarning: Converting sparse IndexedSlices to a dense Tensor of unknown shape. This may consume a large amount of memory.\n",
      "  \"Converting sparse IndexedSlices to a dense Tensor of unknown shape. \"\n"
     ]
    }
   ],
   "source": [
    "accuracy = tf.reduce_mean(tf.cast(tf.equal(tf.argmax(logits_out, 1), tf.cast(y_output, tf.int64)), tf.float32))\n",
    "optimizer = tf.train.RMSPropOptimizer(learning_rate)\n",
    "train_step = optimizer.minimize(loss)\n",
    "\n",
    "init = tf.global_variables_initializer()\n",
    "sess.run(init)"
   ]
  },
  {
   "cell_type": "markdown",
   "metadata": {},
   "source": [
    "Now we can start the traning the model. We will also be shuffling the data on every step."
   ]
  },
  {
   "cell_type": "code",
   "execution_count": 24,
   "metadata": {},
   "outputs": [
    {
     "name": "stdout",
     "output_type": "stream",
     "text": [
      "Epoch: 1, Test Loss: 0.66, Test Acc: 0.84\n",
      "Epoch: 2, Test Loss: 0.62, Test Acc: 0.85\n",
      "Epoch: 3, Test Loss: 0.57, Test Acc: 0.85\n",
      "Epoch: 4, Test Loss: 0.52, Test Acc: 0.85\n",
      "Epoch: 5, Test Loss: 0.47, Test Acc: 0.86\n",
      "Epoch: 6, Test Loss: 0.43, Test Acc: 0.86\n",
      "Epoch: 7, Test Loss: 0.41, Test Acc: 0.87\n",
      "Epoch: 8, Test Loss: 0.39, Test Acc: 0.87\n",
      "Epoch: 9, Test Loss: 0.38, Test Acc: 0.87\n",
      "Epoch: 10, Test Loss: 0.37, Test Acc: 0.88\n",
      "Epoch: 11, Test Loss: 0.36, Test Acc: 0.88\n",
      "Epoch: 12, Test Loss: 0.36, Test Acc: 0.88\n",
      "Epoch: 13, Test Loss: 0.36, Test Acc: 0.88\n",
      "Epoch: 14, Test Loss: 0.35, Test Acc: 0.89\n",
      "Epoch: 15, Test Loss: 0.35, Test Acc: 0.89\n",
      "Epoch: 16, Test Loss: 0.35, Test Acc: 0.89\n",
      "Epoch: 17, Test Loss: 0.34, Test Acc: 0.89\n",
      "Epoch: 18, Test Loss: 0.31, Test Acc: 0.9\n",
      "Epoch: 19, Test Loss: 0.27, Test Acc: 0.91\n",
      "Epoch: 20, Test Loss: 0.27, Test Acc: 0.91\n",
      "Epoch: 21, Test Loss: 0.24, Test Acc: 0.94\n",
      "Epoch: 22, Test Loss: 0.22, Test Acc: 0.94\n",
      "Epoch: 23, Test Loss: 0.21, Test Acc: 0.94\n",
      "Epoch: 24, Test Loss: 0.2, Test Acc: 0.95\n",
      "Epoch: 25, Test Loss: 0.19, Test Acc: 0.94\n",
      "Epoch: 26, Test Loss: 0.18, Test Acc: 0.95\n",
      "Epoch: 27, Test Loss: 0.18, Test Acc: 0.95\n",
      "Epoch: 28, Test Loss: 0.17, Test Acc: 0.94\n",
      "Epoch: 29, Test Loss: 0.17, Test Acc: 0.94\n",
      "Epoch: 30, Test Loss: 0.15, Test Acc: 0.96\n",
      "Epoch: 31, Test Loss: 0.15, Test Acc: 0.95\n",
      "Epoch: 32, Test Loss: 0.16, Test Acc: 0.94\n",
      "Epoch: 33, Test Loss: 0.15, Test Acc: 0.95\n",
      "Epoch: 34, Test Loss: 0.14, Test Acc: 0.96\n",
      "Epoch: 35, Test Loss: 0.14, Test Acc: 0.96\n",
      "Epoch: 36, Test Loss: 0.13, Test Acc: 0.96\n",
      "Epoch: 37, Test Loss: 0.13, Test Acc: 0.96\n",
      "Epoch: 38, Test Loss: 0.15, Test Acc: 0.95\n",
      "Epoch: 39, Test Loss: 0.12, Test Acc: 0.96\n",
      "Epoch: 40, Test Loss: 0.12, Test Acc: 0.96\n",
      "Epoch: 41, Test Loss: 0.12, Test Acc: 0.97\n",
      "Epoch: 42, Test Loss: 0.12, Test Acc: 0.97\n",
      "Epoch: 43, Test Loss: 0.12, Test Acc: 0.96\n",
      "Epoch: 44, Test Loss: 0.12, Test Acc: 0.96\n",
      "Epoch: 45, Test Loss: 0.14, Test Acc: 0.95\n",
      "Epoch: 46, Test Loss: 0.11, Test Acc: 0.97\n",
      "Epoch: 47, Test Loss: 0.11, Test Acc: 0.97\n",
      "Epoch: 48, Test Loss: 0.12, Test Acc: 0.96\n",
      "Epoch: 49, Test Loss: 0.11, Test Acc: 0.97\n",
      "Epoch: 50, Test Loss: 0.1, Test Acc: 0.97\n",
      "Epoch: 51, Test Loss: 0.1, Test Acc: 0.97\n",
      "Epoch: 52, Test Loss: 0.1, Test Acc: 0.97\n",
      "Epoch: 53, Test Loss: 0.1, Test Acc: 0.97\n",
      "Epoch: 54, Test Loss: 0.1, Test Acc: 0.97\n",
      "Epoch: 55, Test Loss: 0.1, Test Acc: 0.97\n",
      "Epoch: 56, Test Loss: 0.1, Test Acc: 0.97\n",
      "Epoch: 57, Test Loss: 0.1, Test Acc: 0.97\n",
      "Epoch: 58, Test Loss: 0.1, Test Acc: 0.97\n",
      "Epoch: 59, Test Loss: 0.1, Test Acc: 0.97\n",
      "Epoch: 60, Test Loss: 0.1, Test Acc: 0.97\n",
      "Epoch: 61, Test Loss: 0.11, Test Acc: 0.97\n",
      "Epoch: 62, Test Loss: 0.17, Test Acc: 0.95\n",
      "Epoch: 63, Test Loss: 0.11, Test Acc: 0.97\n",
      "Epoch: 64, Test Loss: 0.099, Test Acc: 0.97\n",
      "Epoch: 65, Test Loss: 0.11, Test Acc: 0.97\n",
      "Epoch: 66, Test Loss: 0.1, Test Acc: 0.97\n",
      "Epoch: 67, Test Loss: 0.11, Test Acc: 0.97\n",
      "Epoch: 68, Test Loss: 0.11, Test Acc: 0.97\n",
      "Epoch: 69, Test Loss: 0.12, Test Acc: 0.97\n",
      "Epoch: 70, Test Loss: 0.095, Test Acc: 0.98\n",
      "Epoch: 71, Test Loss: 0.1, Test Acc: 0.97\n",
      "Epoch: 72, Test Loss: 0.11, Test Acc: 0.97\n",
      "Epoch: 73, Test Loss: 0.11, Test Acc: 0.97\n",
      "Epoch: 74, Test Loss: 0.1, Test Acc: 0.97\n",
      "Epoch: 75, Test Loss: 0.11, Test Acc: 0.97\n",
      "Epoch: 76, Test Loss: 0.093, Test Acc: 0.98\n",
      "Epoch: 77, Test Loss: 0.11, Test Acc: 0.97\n",
      "Epoch: 78, Test Loss: 0.093, Test Acc: 0.98\n",
      "Epoch: 79, Test Loss: 0.1, Test Acc: 0.97\n",
      "Epoch: 80, Test Loss: 0.11, Test Acc: 0.97\n",
      "Epoch: 81, Test Loss: 0.11, Test Acc: 0.97\n",
      "Epoch: 82, Test Loss: 0.11, Test Acc: 0.97\n",
      "Epoch: 83, Test Loss: 0.1, Test Acc: 0.97\n",
      "Epoch: 84, Test Loss: 0.1, Test Acc: 0.97\n",
      "Epoch: 85, Test Loss: 0.095, Test Acc: 0.98\n",
      "Epoch: 86, Test Loss: 0.096, Test Acc: 0.97\n",
      "Epoch: 87, Test Loss: 0.1, Test Acc: 0.97\n",
      "Epoch: 88, Test Loss: 0.11, Test Acc: 0.97\n",
      "Epoch: 89, Test Loss: 0.094, Test Acc: 0.97\n",
      "Epoch: 90, Test Loss: 0.098, Test Acc: 0.97\n",
      "Epoch: 91, Test Loss: 0.1, Test Acc: 0.97\n",
      "Epoch: 92, Test Loss: 0.097, Test Acc: 0.97\n",
      "Epoch: 93, Test Loss: 0.1, Test Acc: 0.97\n",
      "Epoch: 94, Test Loss: 0.083, Test Acc: 0.98\n",
      "Epoch: 95, Test Loss: 0.11, Test Acc: 0.97\n",
      "Epoch: 96, Test Loss: 0.091, Test Acc: 0.98\n",
      "Epoch: 97, Test Loss: 0.091, Test Acc: 0.98\n",
      "Epoch: 98, Test Loss: 0.11, Test Acc: 0.97\n",
      "Epoch: 99, Test Loss: 0.1, Test Acc: 0.98\n",
      "Epoch: 100, Test Loss: 0.1, Test Acc: 0.98\n",
      "Epoch: 101, Test Loss: 0.11, Test Acc: 0.97\n",
      "Epoch: 102, Test Loss: 0.099, Test Acc: 0.98\n",
      "Epoch: 103, Test Loss: 0.11, Test Acc: 0.97\n",
      "Epoch: 104, Test Loss: 0.12, Test Acc: 0.97\n",
      "Epoch: 105, Test Loss: 0.13, Test Acc: 0.97\n",
      "Epoch: 106, Test Loss: 0.092, Test Acc: 0.98\n",
      "Epoch: 107, Test Loss: 0.12, Test Acc: 0.97\n",
      "Epoch: 108, Test Loss: 0.13, Test Acc: 0.97\n",
      "Epoch: 109, Test Loss: 0.091, Test Acc: 0.98\n",
      "Epoch: 110, Test Loss: 0.12, Test Acc: 0.97\n",
      "Epoch: 111, Test Loss: 0.11, Test Acc: 0.97\n",
      "Epoch: 112, Test Loss: 0.12, Test Acc: 0.97\n",
      "Epoch: 113, Test Loss: 0.11, Test Acc: 0.97\n",
      "Epoch: 114, Test Loss: 0.1, Test Acc: 0.98\n",
      "Epoch: 115, Test Loss: 0.11, Test Acc: 0.97\n",
      "Epoch: 116, Test Loss: 0.11, Test Acc: 0.97\n",
      "Epoch: 117, Test Loss: 0.11, Test Acc: 0.97\n",
      "Epoch: 118, Test Loss: 0.089, Test Acc: 0.98\n",
      "Epoch: 119, Test Loss: 0.12, Test Acc: 0.97\n",
      "Epoch: 120, Test Loss: 0.12, Test Acc: 0.97\n",
      "Epoch: 121, Test Loss: 0.1, Test Acc: 0.98\n",
      "Epoch: 122, Test Loss: 0.11, Test Acc: 0.97\n",
      "Epoch: 123, Test Loss: 0.13, Test Acc: 0.97\n",
      "Epoch: 124, Test Loss: 0.12, Test Acc: 0.97\n",
      "Epoch: 125, Test Loss: 0.11, Test Acc: 0.97\n",
      "Epoch: 126, Test Loss: 0.13, Test Acc: 0.97\n",
      "Epoch: 127, Test Loss: 0.13, Test Acc: 0.97\n",
      "Epoch: 128, Test Loss: 0.1, Test Acc: 0.98\n",
      "Epoch: 129, Test Loss: 0.13, Test Acc: 0.97\n",
      "Epoch: 130, Test Loss: 0.11, Test Acc: 0.97\n",
      "Epoch: 131, Test Loss: 0.12, Test Acc: 0.97\n",
      "Epoch: 132, Test Loss: 0.12, Test Acc: 0.97\n",
      "Epoch: 133, Test Loss: 0.15, Test Acc: 0.97\n",
      "Epoch: 134, Test Loss: 0.12, Test Acc: 0.97\n",
      "Epoch: 135, Test Loss: 0.12, Test Acc: 0.98\n",
      "Epoch: 136, Test Loss: 0.13, Test Acc: 0.97\n",
      "Epoch: 137, Test Loss: 0.12, Test Acc: 0.97\n",
      "Epoch: 138, Test Loss: 0.12, Test Acc: 0.97\n",
      "Epoch: 139, Test Loss: 0.12, Test Acc: 0.97\n",
      "Epoch: 140, Test Loss: 0.12, Test Acc: 0.98\n",
      "Epoch: 141, Test Loss: 0.11, Test Acc: 0.98\n",
      "Epoch: 142, Test Loss: 0.12, Test Acc: 0.98\n",
      "Epoch: 143, Test Loss: 0.12, Test Acc: 0.98\n",
      "Epoch: 144, Test Loss: 0.11, Test Acc: 0.98\n",
      "Epoch: 145, Test Loss: 0.11, Test Acc: 0.98\n",
      "Epoch: 146, Test Loss: 0.11, Test Acc: 0.98\n",
      "Epoch: 147, Test Loss: 0.1, Test Acc: 0.98\n",
      "Epoch: 148, Test Loss: 0.12, Test Acc: 0.98\n",
      "Epoch: 149, Test Loss: 0.13, Test Acc: 0.98\n",
      "Epoch: 150, Test Loss: 0.12, Test Acc: 0.98\n"
     ]
    }
   ],
   "source": [
    "train_loss = []\n",
    "test_loss = []\n",
    "train_accuracy = []\n",
    "test_accuracy = []\n",
    "# Start training\n",
    "for epoch in range(epochs):\n",
    "\n",
    "    # Shuffle training data\n",
    "    shuffled_ix = np.random.permutation(np.arange(len(x_train)))\n",
    "    x_train = x_train[shuffled_ix]\n",
    "    y_train = y_train[shuffled_ix]\n",
    "    num_batches = int(len(x_train)/batch_size) + 1\n",
    "    # TO DO CALCULATE GENERATIONS ExACTLY\n",
    "    for i in range(num_batches):\n",
    "        # Select train data\n",
    "        min_ix = i * batch_size\n",
    "        max_ix = np.min([len(x_train), ((i+1) * batch_size)])\n",
    "        x_train_batch = x_train[min_ix:max_ix]\n",
    "        y_train_batch = y_train[min_ix:max_ix]\n",
    "        \n",
    "        # Run train step\n",
    "        train_dict = {x_data: x_train_batch, y_output: y_train_batch, dropout_keep_prob:0.5}\n",
    "        sess.run(train_step, feed_dict=train_dict)\n",
    "        \n",
    "    # Run loss and accuracy for training\n",
    "    temp_train_loss, temp_train_acc = sess.run([loss, accuracy], feed_dict=train_dict)\n",
    "    train_loss.append(temp_train_loss)\n",
    "    train_accuracy.append(temp_train_acc)\n",
    "    \n",
    "    # Run Eval Step\n",
    "    test_dict = {x_data: x_test, y_output: y_test, dropout_keep_prob:1.0}\n",
    "    temp_test_loss, temp_test_acc = sess.run([loss, accuracy], feed_dict=test_dict)\n",
    "    test_loss.append(temp_test_loss)\n",
    "    test_accuracy.append(temp_test_acc)\n",
    "    print('Epoch: {}, Test Loss: {:.2}, Test Acc: {:.2}'.format(epoch+1, temp_test_loss, temp_test_acc))"
   ]
  },
  {
   "cell_type": "code",
   "execution_count": 25,
   "metadata": {},
   "outputs": [
    {
     "data": {
      "image/png": "[encoded data removed]",
      "text/plain": [
       "<Figure size 432x288 with 1 Axes>"
      ]
     },
     "metadata": {},
     "output_type": "display_data"
    },
    {
     "data": {
      "image/png": "[encoded data removed]",
      "text/plain": [
       "<Figure size 432x288 with 1 Axes>"
      ]
     },
     "metadata": {},
     "output_type": "display_data"
    }
   ],
   "source": [
    "# Plot loss over time\n",
    "epoch_seq = np.arange(1, epochs+1)\n",
    "plt.plot(epoch_seq, train_loss, 'k--', label='Train Set')\n",
    "plt.plot(epoch_seq, test_loss, 'r-', label='Test Set')\n",
    "plt.title('Softmax Loss')\n",
    "plt.xlabel('Epochs')\n",
    "plt.ylabel('Softmax Loss')\n",
    "plt.legend(loc='upper left')\n",
    "plt.show()\n",
    "\n",
    "# Plot accuracy over time\n",
    "plt.plot(epoch_seq, train_accuracy, 'k--', label='Train Set')\n",
    "plt.plot(epoch_seq, test_accuracy, 'r-', label='Test Set')\n",
    "plt.title('Test Accuracy')\n",
    "plt.xlabel('Epochs')\n",
    "plt.ylabel('Accuracy')\n",
    "plt.legend(loc='upper left')\n",
    "plt.show()"
   ]
  },
  {
   "cell_type": "code",
   "execution_count": 35,
   "metadata": {},
   "outputs": [
    {
     "ename": "AssertionError",
     "evalue": "not_activated_output is not in graph",
     "output_type": "error",
     "traceback": [
      "\u001b[1;31m---------------------------------------------------------------------------\u001b[0m",
      "\u001b[1;31mAssertionError\u001b[0m                            Traceback (most recent call last)",
      "\u001b[1;32m<ipython-input-35-5591f09fcbab>\u001b[0m in \u001b[0;36m<module>\u001b[1;34m()\u001b[0m\n\u001b[0;32m      3\u001b[0m     \u001b[0msess\u001b[0m\u001b[1;33m,\u001b[0m                                               \u001b[1;31m# We need to pass session object, it contains all variables\u001b[0m\u001b[1;33m\u001b[0m\u001b[0m\n\u001b[0;32m      4\u001b[0m     \u001b[0mtf\u001b[0m\u001b[1;33m.\u001b[0m\u001b[0mget_default_graph\u001b[0m\u001b[1;33m(\u001b[0m\u001b[1;33m)\u001b[0m\u001b[1;33m.\u001b[0m\u001b[0mas_graph_def\u001b[0m\u001b[1;33m(\u001b[0m\u001b[1;33m)\u001b[0m\u001b[1;33m,\u001b[0m              \u001b[1;31m# also graph definition is necessary\u001b[0m\u001b[1;33m\u001b[0m\u001b[0m\n\u001b[1;32m----> 5\u001b[1;33m     \u001b[0moutput_node_names\u001b[0m\u001b[1;33m.\u001b[0m\u001b[0msplit\u001b[0m\u001b[1;33m(\u001b[0m\u001b[1;34m\",\"\u001b[0m\u001b[1;33m)\u001b[0m                        \u001b[1;31m# we may use multiple nodes for output\u001b[0m\u001b[1;33m\u001b[0m\u001b[0m\n\u001b[0m\u001b[0;32m      6\u001b[0m )\n\u001b[0;32m      7\u001b[0m \u001b[0mmodel_file\u001b[0m \u001b[1;33m=\u001b[0m \u001b[1;34m\"./saved_model.pb\"\u001b[0m\u001b[1;33m\u001b[0m\u001b[0m\n",
      "\u001b[1;32m~\\Anaconda3\\lib\\site-packages\\tensorflow\\python\\framework\\graph_util_impl.py\u001b[0m in \u001b[0;36mconvert_variables_to_constants\u001b[1;34m(sess, input_graph_def, output_node_names, variable_names_whitelist, variable_names_blacklist)\u001b[0m\n\u001b[0;32m    230\u001b[0m   \u001b[1;31m# This graph only includes the nodes needed to evaluate the output nodes, and\u001b[0m\u001b[1;33m\u001b[0m\u001b[1;33m\u001b[0m\u001b[0m\n\u001b[0;32m    231\u001b[0m   \u001b[1;31m# removes unneeded nodes like those involved in saving and assignment.\u001b[0m\u001b[1;33m\u001b[0m\u001b[1;33m\u001b[0m\u001b[0m\n\u001b[1;32m--> 232\u001b[1;33m   \u001b[0minference_graph\u001b[0m \u001b[1;33m=\u001b[0m \u001b[0mextract_sub_graph\u001b[0m\u001b[1;33m(\u001b[0m\u001b[0minput_graph_def\u001b[0m\u001b[1;33m,\u001b[0m \u001b[0moutput_node_names\u001b[0m\u001b[1;33m)\u001b[0m\u001b[1;33m\u001b[0m\u001b[0m\n\u001b[0m\u001b[0;32m    233\u001b[0m \u001b[1;33m\u001b[0m\u001b[0m\n\u001b[0;32m    234\u001b[0m   \u001b[0mfound_variables\u001b[0m \u001b[1;33m=\u001b[0m \u001b[1;33m{\u001b[0m\u001b[1;33m}\u001b[0m\u001b[1;33m\u001b[0m\u001b[0m\n",
      "\u001b[1;32m~\\Anaconda3\\lib\\site-packages\\tensorflow\\python\\framework\\graph_util_impl.py\u001b[0m in \u001b[0;36mextract_sub_graph\u001b[1;34m(graph_def, dest_nodes)\u001b[0m\n\u001b[0;32m    172\u001b[0m   name_to_input_name, name_to_node, name_to_seq_num = _extract_graph_summary(\n\u001b[0;32m    173\u001b[0m       graph_def)\n\u001b[1;32m--> 174\u001b[1;33m   \u001b[0m_assert_nodes_are_present\u001b[0m\u001b[1;33m(\u001b[0m\u001b[0mname_to_node\u001b[0m\u001b[1;33m,\u001b[0m \u001b[0mdest_nodes\u001b[0m\u001b[1;33m)\u001b[0m\u001b[1;33m\u001b[0m\u001b[0m\n\u001b[0m\u001b[0;32m    175\u001b[0m \u001b[1;33m\u001b[0m\u001b[0m\n\u001b[0;32m    176\u001b[0m   \u001b[0mnodes_to_keep\u001b[0m \u001b[1;33m=\u001b[0m \u001b[0m_bfs_for_reachable_nodes\u001b[0m\u001b[1;33m(\u001b[0m\u001b[0mdest_nodes\u001b[0m\u001b[1;33m,\u001b[0m \u001b[0mname_to_input_name\u001b[0m\u001b[1;33m)\u001b[0m\u001b[1;33m\u001b[0m\u001b[0m\n",
      "\u001b[1;32m~\\Anaconda3\\lib\\site-packages\\tensorflow\\python\\framework\\graph_util_impl.py\u001b[0m in \u001b[0;36m_assert_nodes_are_present\u001b[1;34m(name_to_node, nodes)\u001b[0m\n\u001b[0;32m    131\u001b[0m   \u001b[1;34m\"\"\"Assert that nodes are present in the graph.\"\"\"\u001b[0m\u001b[1;33m\u001b[0m\u001b[0m\n\u001b[0;32m    132\u001b[0m   \u001b[1;32mfor\u001b[0m \u001b[0md\u001b[0m \u001b[1;32min\u001b[0m \u001b[0mnodes\u001b[0m\u001b[1;33m:\u001b[0m\u001b[1;33m\u001b[0m\u001b[0m\n\u001b[1;32m--> 133\u001b[1;33m     \u001b[1;32massert\u001b[0m \u001b[0md\u001b[0m \u001b[1;32min\u001b[0m \u001b[0mname_to_node\u001b[0m\u001b[1;33m,\u001b[0m \u001b[1;34m\"%s is not in graph\"\u001b[0m \u001b[1;33m%\u001b[0m \u001b[0md\u001b[0m\u001b[1;33m\u001b[0m\u001b[0m\n\u001b[0m\u001b[0;32m    134\u001b[0m \u001b[1;33m\u001b[0m\u001b[0m\n\u001b[0;32m    135\u001b[0m \u001b[1;33m\u001b[0m\u001b[0m\n",
      "\u001b[1;31mAssertionError\u001b[0m: not_activated_output is not in graph"
     ]
    }
   ],
   "source": [
    "output_node_names = \"not_activated_output,output\"\n",
    "output_graph_def = graph_util.convert_variables_to_constants(\n",
    "    sess,                                               # We need to pass session object, it contains all variables\n",
    "    tf.get_default_graph().as_graph_def(),              # also graph definition is necessary\n",
    "    output_node_names.split(\",\")                        # we may use multiple nodes for output\n",
    ")\n",
    "model_file = \"./saved_model.pb\"\n",
    "with tf.gfile.GFile(model_file, \"wb\") as f:\n",
    "    f.write(output_graph_def.SerializeToString()) "
   ]
  },
  {
   "cell_type": "code",
   "execution_count": null,
   "metadata": {},
   "outputs": [],
   "source": []
  }
 ],
 "metadata": {
  "kernelspec": {
   "display_name": "Python 3",
   "language": "python",
   "name": "python3"
  },
  "language_info": {
   "codemirror_mode": {
    "name": "ipython",
    "version": 3
   },
   "file_extension": ".py",
   "mimetype": "text/x-python",
   "name": "python",
   "nbconvert_exporter": "python",
   "pygments_lexer": "ipython3",
   "version": "3.6.5"
  }
 },
 "nbformat": 4,
 "nbformat_minor": 2
}
